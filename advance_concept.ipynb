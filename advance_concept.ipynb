{
 "cells": [
  {
   "cell_type": "code",
   "execution_count": 2,
   "id": "65cf319c-68b6-4755-af2f-99a97b0facf4",
   "metadata": {},
   "outputs": [],
   "source": [
    "# Importing Pandas and numpy\n",
    "import pandas as pd\n",
    "import numpy as np"
   ]
  },
  {
   "cell_type": "code",
   "execution_count": 3,
   "id": "70bb3c18-b305-41e4-ae92-5f6f805123ec",
   "metadata": {},
   "outputs": [
    {
     "name": "stdout",
     "output_type": "stream",
     "text": [
      "2.2.2\n"
     ]
    }
   ],
   "source": [
    "# Check pandas version\n",
    "print(pd.__version__)"
   ]
  },
  {
   "cell_type": "code",
   "execution_count": 4,
   "id": "b2c579de-604c-4256-bbe5-488e9ccb2a65",
   "metadata": {},
   "outputs": [
    {
     "name": "stdout",
     "output_type": "stream",
     "text": [
      "Series:\n",
      " a    10\n",
      "b    20\n",
      "c    30\n",
      "d    40\n",
      "e    50\n",
      "dtype: int64\n"
     ]
    }
   ],
   "source": [
    "# Creating DataFrames and Series\n",
    "# Creating a Series\n",
    "s=pd.Series([10,20,30,40,50], index=['a','b','c','d','e'])\n",
    "print(\"Series:\\n\",s)"
   ]
  },
  {
   "cell_type": "code",
   "execution_count": 6,
   "id": "0251b052-e9eb-4722-9034-22de090bfba3",
   "metadata": {},
   "outputs": [
    {
     "name": "stdout",
     "output_type": "stream",
     "text": [
      "\n",
      "DataFrame:\n",
      "        Name  Age  Salary\n",
      "0  Hashiram   45   89999\n",
      "1  Tobirama   43   87999\n",
      "2   Hiruzen   38   84000\n",
      "3    Minato   28   78000\n",
      "4   Tsunade   31   82000\n"
     ]
    }
   ],
   "source": [
    "# Creating a DataFrame\n",
    "data={\"Name\":[\"Hashiram\",\"Tobirama\",\"Hiruzen\",\"Minato\",\"Tsunade\"],\n",
    "      \"Age\":[45, 43, 38, 28, 31],\n",
    "      \"Salary\":[89999, 87999, 84000, 78000, 82000]\n",
    "     }\n",
    "df=pd.DataFrame(data)\n",
    "print(\"\\nDataFrame:\\n\",df)"
   ]
  },
  {
   "cell_type": "code",
   "execution_count": 8,
   "id": "63edebd8-4d7d-4f64-b31e-09fadd37cad3",
   "metadata": {},
   "outputs": [
    {
     "data": {
      "text/html": [
       "<div>\n",
       "<style scoped>\n",
       "    .dataframe tbody tr th:only-of-type {\n",
       "        vertical-align: middle;\n",
       "    }\n",
       "\n",
       "    .dataframe tbody tr th {\n",
       "        vertical-align: top;\n",
       "    }\n",
       "\n",
       "    .dataframe thead th {\n",
       "        text-align: right;\n",
       "    }\n",
       "</style>\n",
       "<table border=\"1\" class=\"dataframe\">\n",
       "  <thead>\n",
       "    <tr style=\"text-align: right;\">\n",
       "      <th></th>\n",
       "      <th>Name</th>\n",
       "      <th>Age</th>\n",
       "      <th>Salary</th>\n",
       "      <th>Bonus</th>\n",
       "      <th>Total Pay</th>\n",
       "      <th>Join Date</th>\n",
       "      <th>Age Category</th>\n",
       "    </tr>\n",
       "  </thead>\n",
       "  <tbody>\n",
       "    <tr>\n",
       "      <th>0</th>\n",
       "      <td>Alice</td>\n",
       "      <td>34</td>\n",
       "      <td>77177</td>\n",
       "      <td>7717.7</td>\n",
       "      <td>84894.7</td>\n",
       "      <td>2022-01-31</td>\n",
       "      <td>Young</td>\n",
       "    </tr>\n",
       "    <tr>\n",
       "      <th>1</th>\n",
       "      <td>Bob</td>\n",
       "      <td>38</td>\n",
       "      <td>43110</td>\n",
       "      <td>4311.0</td>\n",
       "      <td>47421.0</td>\n",
       "      <td>2022-02-28</td>\n",
       "      <td>Senior</td>\n",
       "    </tr>\n",
       "    <tr>\n",
       "      <th>2</th>\n",
       "      <td>Charlie</td>\n",
       "      <td>36</td>\n",
       "      <td>77066</td>\n",
       "      <td>7706.6</td>\n",
       "      <td>84772.6</td>\n",
       "      <td>2022-03-31</td>\n",
       "      <td>Senior</td>\n",
       "    </tr>\n",
       "    <tr>\n",
       "      <th>3</th>\n",
       "      <td>David</td>\n",
       "      <td>29</td>\n",
       "      <td>55569</td>\n",
       "      <td>5556.9</td>\n",
       "      <td>61125.9</td>\n",
       "      <td>2022-04-30</td>\n",
       "      <td>Young</td>\n",
       "    </tr>\n",
       "    <tr>\n",
       "      <th>4</th>\n",
       "      <td>Eve</td>\n",
       "      <td>41</td>\n",
       "      <td>91042</td>\n",
       "      <td>9104.2</td>\n",
       "      <td>100146.2</td>\n",
       "      <td>2022-05-31</td>\n",
       "      <td>Senior</td>\n",
       "    </tr>\n",
       "    <tr>\n",
       "      <th>5</th>\n",
       "      <td>Frank</td>\n",
       "      <td>46</td>\n",
       "      <td>95315</td>\n",
       "      <td>9531.5</td>\n",
       "      <td>104846.5</td>\n",
       "      <td>2022-06-30</td>\n",
       "      <td>Senior</td>\n",
       "    </tr>\n",
       "    <tr>\n",
       "      <th>6</th>\n",
       "      <td>Grace</td>\n",
       "      <td>32</td>\n",
       "      <td>68153</td>\n",
       "      <td>6815.3</td>\n",
       "      <td>74968.3</td>\n",
       "      <td>2022-07-31</td>\n",
       "      <td>Young</td>\n",
       "    </tr>\n",
       "    <tr>\n",
       "      <th>7</th>\n",
       "      <td>Hannah</td>\n",
       "      <td>30</td>\n",
       "      <td>75887</td>\n",
       "      <td>7588.7</td>\n",
       "      <td>83475.7</td>\n",
       "      <td>2022-08-31</td>\n",
       "      <td>Young</td>\n",
       "    </tr>\n",
       "    <tr>\n",
       "      <th>8</th>\n",
       "      <td>Ian</td>\n",
       "      <td>28</td>\n",
       "      <td>41251</td>\n",
       "      <td>4125.1</td>\n",
       "      <td>45376.1</td>\n",
       "      <td>2022-09-30</td>\n",
       "      <td>Young</td>\n",
       "    </tr>\n",
       "    <tr>\n",
       "      <th>9</th>\n",
       "      <td>Jack</td>\n",
       "      <td>28</td>\n",
       "      <td>72947</td>\n",
       "      <td>7294.7</td>\n",
       "      <td>80241.7</td>\n",
       "      <td>2022-10-31</td>\n",
       "      <td>Young</td>\n",
       "    </tr>\n",
       "    <tr>\n",
       "      <th>10</th>\n",
       "      <td>Karen</td>\n",
       "      <td>46</td>\n",
       "      <td>59475</td>\n",
       "      <td>5947.5</td>\n",
       "      <td>65422.5</td>\n",
       "      <td>2022-11-30</td>\n",
       "      <td>Senior</td>\n",
       "    </tr>\n",
       "    <tr>\n",
       "      <th>11</th>\n",
       "      <td>Leo</td>\n",
       "      <td>45</td>\n",
       "      <td>91099</td>\n",
       "      <td>9109.9</td>\n",
       "      <td>100208.9</td>\n",
       "      <td>2022-12-31</td>\n",
       "      <td>Senior</td>\n",
       "    </tr>\n",
       "    <tr>\n",
       "      <th>12</th>\n",
       "      <td>Mona</td>\n",
       "      <td>49</td>\n",
       "      <td>75348</td>\n",
       "      <td>7534.8</td>\n",
       "      <td>82882.8</td>\n",
       "      <td>2023-01-31</td>\n",
       "      <td>Senior</td>\n",
       "    </tr>\n",
       "    <tr>\n",
       "      <th>13</th>\n",
       "      <td>Nathan</td>\n",
       "      <td>31</td>\n",
       "      <td>51645</td>\n",
       "      <td>5164.5</td>\n",
       "      <td>56809.5</td>\n",
       "      <td>2023-02-28</td>\n",
       "      <td>Young</td>\n",
       "    </tr>\n",
       "    <tr>\n",
       "      <th>14</th>\n",
       "      <td>Olivia</td>\n",
       "      <td>44</td>\n",
       "      <td>90454</td>\n",
       "      <td>9045.4</td>\n",
       "      <td>99499.4</td>\n",
       "      <td>2023-03-31</td>\n",
       "      <td>Senior</td>\n",
       "    </tr>\n",
       "    <tr>\n",
       "      <th>15</th>\n",
       "      <td>Paul</td>\n",
       "      <td>35</td>\n",
       "      <td>47299</td>\n",
       "      <td>4729.9</td>\n",
       "      <td>52028.9</td>\n",
       "      <td>2023-04-30</td>\n",
       "      <td>Senior</td>\n",
       "    </tr>\n",
       "    <tr>\n",
       "      <th>16</th>\n",
       "      <td>Quincy</td>\n",
       "      <td>49</td>\n",
       "      <td>60879</td>\n",
       "      <td>6087.9</td>\n",
       "      <td>66966.9</td>\n",
       "      <td>2023-05-31</td>\n",
       "      <td>Senior</td>\n",
       "    </tr>\n",
       "    <tr>\n",
       "      <th>17</th>\n",
       "      <td>Rachel</td>\n",
       "      <td>47</td>\n",
       "      <td>66596</td>\n",
       "      <td>6659.6</td>\n",
       "      <td>73255.6</td>\n",
       "      <td>2023-06-30</td>\n",
       "      <td>Senior</td>\n",
       "    </tr>\n",
       "    <tr>\n",
       "      <th>18</th>\n",
       "      <td>Steve</td>\n",
       "      <td>31</td>\n",
       "      <td>95416</td>\n",
       "      <td>9541.6</td>\n",
       "      <td>104957.6</td>\n",
       "      <td>2023-07-31</td>\n",
       "      <td>Young</td>\n",
       "    </tr>\n",
       "    <tr>\n",
       "      <th>19</th>\n",
       "      <td>Tina</td>\n",
       "      <td>36</td>\n",
       "      <td>51836</td>\n",
       "      <td>5183.6</td>\n",
       "      <td>57019.6</td>\n",
       "      <td>2023-08-31</td>\n",
       "      <td>Senior</td>\n",
       "    </tr>\n",
       "  </tbody>\n",
       "</table>\n",
       "</div>"
      ],
      "text/plain": [
       "       Name  Age  Salary   Bonus  Total Pay   Join Date Age Category\n",
       "0     Alice   34   77177  7717.7    84894.7  2022-01-31        Young\n",
       "1       Bob   38   43110  4311.0    47421.0  2022-02-28       Senior\n",
       "2   Charlie   36   77066  7706.6    84772.6  2022-03-31       Senior\n",
       "3     David   29   55569  5556.9    61125.9  2022-04-30        Young\n",
       "4       Eve   41   91042  9104.2   100146.2  2022-05-31       Senior\n",
       "5     Frank   46   95315  9531.5   104846.5  2022-06-30       Senior\n",
       "6     Grace   32   68153  6815.3    74968.3  2022-07-31        Young\n",
       "7    Hannah   30   75887  7588.7    83475.7  2022-08-31        Young\n",
       "8       Ian   28   41251  4125.1    45376.1  2022-09-30        Young\n",
       "9      Jack   28   72947  7294.7    80241.7  2022-10-31        Young\n",
       "10    Karen   46   59475  5947.5    65422.5  2022-11-30       Senior\n",
       "11      Leo   45   91099  9109.9   100208.9  2022-12-31       Senior\n",
       "12     Mona   49   75348  7534.8    82882.8  2023-01-31       Senior\n",
       "13   Nathan   31   51645  5164.5    56809.5  2023-02-28        Young\n",
       "14   Olivia   44   90454  9045.4    99499.4  2023-03-31       Senior\n",
       "15     Paul   35   47299  4729.9    52028.9  2023-04-30       Senior\n",
       "16   Quincy   49   60879  6087.9    66966.9  2023-05-31       Senior\n",
       "17   Rachel   47   66596  6659.6    73255.6  2023-06-30       Senior\n",
       "18    Steve   31   95416  9541.6   104957.6  2023-07-31        Young\n",
       "19     Tina   36   51836  5183.6    57019.6  2023-08-31       Senior"
      ]
     },
     "execution_count": 8,
     "metadata": {},
     "output_type": "execute_result"
    }
   ],
   "source": [
    "# Reading and Writing Data\n",
    "# Reading CSV\n",
    "df=pd.read_csv(r\"D:\\Data Science & AI\\Pandas\\assets\\Employee_Data.csv\")\n",
    "df"
   ]
  },
  {
   "cell_type": "code",
   "execution_count": 9,
   "id": "31c1f607-92b9-4cc3-b405-05207cdfe8af",
   "metadata": {},
   "outputs": [],
   "source": [
    "# Writing to CSV\n",
    "df.to_csv('output.csv', index=False)"
   ]
  },
  {
   "cell_type": "code",
   "execution_count": 10,
   "id": "108851ec-01ad-4829-bbd4-97b807a214d5",
   "metadata": {},
   "outputs": [
    {
     "name": "stdout",
     "output_type": "stream",
     "text": [
      "\n",
      " First 5 Rows :\n",
      "       Name  Age  Salary   Bonus  Total Pay   Join Date Age Category\n",
      "0    Alice   34   77177  7717.7    84894.7  2022-01-31        Young\n",
      "1      Bob   38   43110  4311.0    47421.0  2022-02-28       Senior\n",
      "2  Charlie   36   77066  7706.6    84772.6  2022-03-31       Senior\n",
      "3    David   29   55569  5556.9    61125.9  2022-04-30        Young\n",
      "4      Eve   41   91042  9104.2   100146.2  2022-05-31       Senior\n",
      "\n",
      " Last 5 Rows: \n",
      "       Name  Age  Salary   Bonus  Total Pay   Join Date Age Category\n",
      "15    Paul   35   47299  4729.9    52028.9  2023-04-30       Senior\n",
      "16  Quincy   49   60879  6087.9    66966.9  2023-05-31       Senior\n",
      "17  Rachel   47   66596  6659.6    73255.6  2023-06-30       Senior\n",
      "18   Steve   31   95416  9541.6   104957.6  2023-07-31        Young\n",
      "19    Tina   36   51836  5183.6    57019.6  2023-08-31       Senior\n",
      "\n",
      " Shape:  (20, 7)\n",
      "\n",
      " Info:\n",
      "<class 'pandas.core.frame.DataFrame'>\n",
      "RangeIndex: 20 entries, 0 to 19\n",
      "Data columns (total 7 columns):\n",
      " #   Column        Non-Null Count  Dtype  \n",
      "---  ------        --------------  -----  \n",
      " 0   Name          20 non-null     object \n",
      " 1   Age           20 non-null     int64  \n",
      " 2   Salary        20 non-null     int64  \n",
      " 3   Bonus         20 non-null     float64\n",
      " 4   Total Pay     20 non-null     float64\n",
      " 5   Join Date     20 non-null     object \n",
      " 6   Age Category  20 non-null     object \n",
      "dtypes: float64(2), int64(2), object(3)\n",
      "memory usage: 1.2+ KB\n",
      "\n",
      " Describe: \n",
      "              Age        Salary        Bonus     Total Pay\n",
      "count  20.000000     20.000000    20.000000      20.00000\n",
      "mean   37.750000  69378.200000  6937.820000   76316.02000\n",
      "std     7.454246  17633.311328  1763.331133   19396.64246\n",
      "min    28.000000  41251.000000  4125.100000   45376.10000\n",
      "25%    31.000000  54635.750000  5463.575000   60099.32500\n",
      "50%    36.000000  70550.000000  7055.000000   77605.00000\n",
      "75%    45.250000  80496.250000  8049.625000   88545.87500\n",
      "max    49.000000  95416.000000  9541.600000  104957.60000\n"
     ]
    }
   ],
   "source": [
    "# Exploring the Data\n",
    "print(\"\\n First 5 Rows :\\n\", df.head(5))\n",
    "print(\"\\n Last 5 Rows: \\n\",df.tail(5))\n",
    "print(\"\\n Shape: \",df.shape)\n",
    "print(\"\\n Info:\")\n",
    "df.info()\n",
    "print(\"\\n Describe: \\n\",df.describe())"
   ]
  },
  {
   "cell_type": "code",
   "execution_count": 12,
   "id": "5234f638-9367-457b-9e30-6eedb53e8235",
   "metadata": {},
   "outputs": [
    {
     "name": "stdout",
     "output_type": "stream",
     "text": [
      "\n",
      "Selecting a column (Series):\n",
      " 0       Alice\n",
      "1         Bob\n",
      "2     Charlie\n",
      "3       David\n",
      "4         Eve\n",
      "5       Frank\n",
      "6       Grace\n",
      "7      Hannah\n",
      "8         Ian\n",
      "9        Jack\n",
      "10      Karen\n",
      "11        Leo\n",
      "12       Mona\n",
      "13     Nathan\n",
      "14     Olivia\n",
      "15       Paul\n",
      "16     Quincy\n",
      "17     Rachel\n",
      "18      Steve\n",
      "19       Tina\n",
      "Name: Name, dtype: object\n",
      "\n",
      "Selecting multiple columns:\n",
      "        Name  Salary\n",
      "0     Alice   77177\n",
      "1       Bob   43110\n",
      "2   Charlie   77066\n",
      "3     David   55569\n",
      "4       Eve   91042\n",
      "5     Frank   95315\n",
      "6     Grace   68153\n",
      "7    Hannah   75887\n",
      "8       Ian   41251\n",
      "9      Jack   72947\n",
      "10    Karen   59475\n",
      "11      Leo   91099\n",
      "12     Mona   75348\n",
      "13   Nathan   51645\n",
      "14   Olivia   90454\n",
      "15     Paul   47299\n",
      "16   Quincy   60879\n",
      "17   Rachel   66596\n",
      "18    Steve   95416\n",
      "19     Tina   51836\n",
      "\n",
      "Selecting rows by index (iloc):\n",
      " Name                   Bob\n",
      "Age                     38\n",
      "Salary               43110\n",
      "Bonus               4311.0\n",
      "Total Pay          47421.0\n",
      "Join Date       2022-02-28\n",
      "Age Category        Senior\n",
      "Name: 1, dtype: object\n",
      "\n",
      "Selecting rows by label (loc):\n",
      " Name               Charlie\n",
      "Age                     36\n",
      "Salary               77066\n",
      "Bonus               7706.6\n",
      "Total Pay          84772.6\n",
      "Join Date       2022-03-31\n",
      "Age Category        Senior\n",
      "Name: 2, dtype: object\n"
     ]
    }
   ],
   "source": [
    "# Selecting Data\n",
    "print(\"\\nSelecting a column (Series):\\n\", df['Name'])\n",
    "print(\"\\nSelecting multiple columns:\\n\", df[['Name', 'Salary']])\n",
    "print(\"\\nSelecting rows by index (iloc):\\n\", df.iloc[1])\n",
    "print(\"\\nSelecting rows by label (loc):\\n\", df.loc[2])"
   ]
  },
  {
   "cell_type": "code",
   "execution_count": 17,
   "id": "36aaee8e-39bf-4b49-bd2f-07708ed32d34",
   "metadata": {},
   "outputs": [
    {
     "name": "stdout",
     "output_type": "stream",
     "text": [
      "\n",
      " Employees with Salary > 60K:\n",
      "        Name  Age  Salary   Bonus  Total Pay   Join Date Age Category\n",
      "0     Alice   34   77177  7717.7    84894.7  2022-01-31        Young\n",
      "2   Charlie   36   77066  7706.6    84772.6  2022-03-31       Senior\n",
      "4       Eve   41   91042  9104.2   100146.2  2022-05-31       Senior\n",
      "5     Frank   46   95315  9531.5   104846.5  2022-06-30       Senior\n",
      "6     Grace   32   68153  6815.3    74968.3  2022-07-31        Young\n",
      "7    Hannah   30   75887  7588.7    83475.7  2022-08-31        Young\n",
      "9      Jack   28   72947  7294.7    80241.7  2022-10-31        Young\n",
      "11      Leo   45   91099  9109.9   100208.9  2022-12-31       Senior\n",
      "12     Mona   49   75348  7534.8    82882.8  2023-01-31       Senior\n",
      "14   Olivia   44   90454  9045.4    99499.4  2023-03-31       Senior\n",
      "16   Quincy   49   60879  6087.9    66966.9  2023-05-31       Senior\n",
      "17   Rachel   47   66596  6659.6    73255.6  2023-06-30       Senior\n",
      "18    Steve   31   95416  9541.6   104957.6  2023-07-31        Young\n",
      "\n",
      " Employees aged 30 and above: \n",
      "        Name  Age  Salary   Bonus  Total Pay   Join Date Age Category\n",
      "0     Alice   34   77177  7717.7    84894.7  2022-01-31        Young\n",
      "1       Bob   38   43110  4311.0    47421.0  2022-02-28       Senior\n",
      "2   Charlie   36   77066  7706.6    84772.6  2022-03-31       Senior\n",
      "4       Eve   41   91042  9104.2   100146.2  2022-05-31       Senior\n",
      "5     Frank   46   95315  9531.5   104846.5  2022-06-30       Senior\n",
      "6     Grace   32   68153  6815.3    74968.3  2022-07-31        Young\n",
      "7    Hannah   30   75887  7588.7    83475.7  2022-08-31        Young\n",
      "10    Karen   46   59475  5947.5    65422.5  2022-11-30       Senior\n",
      "11      Leo   45   91099  9109.9   100208.9  2022-12-31       Senior\n",
      "12     Mona   49   75348  7534.8    82882.8  2023-01-31       Senior\n",
      "13   Nathan   31   51645  5164.5    56809.5  2023-02-28        Young\n",
      "14   Olivia   44   90454  9045.4    99499.4  2023-03-31       Senior\n",
      "15     Paul   35   47299  4729.9    52028.9  2023-04-30       Senior\n",
      "16   Quincy   49   60879  6087.9    66966.9  2023-05-31       Senior\n",
      "17   Rachel   47   66596  6659.6    73255.6  2023-06-30       Senior\n",
      "18    Steve   31   95416  9541.6   104957.6  2023-07-31        Young\n",
      "19     Tina   36   51836  5183.6    57019.6  2023-08-31       Senior\n"
     ]
    }
   ],
   "source": [
    "# Filtering Data\n",
    "print(\"\\n Employees with Salary > 60K:\\n\",df[df['Salary'] > 60000])\n",
    "print(\"\\n Employees aged 30 and above: \\n\", df[df['Age'] >= 30])"
   ]
  },
  {
   "cell_type": "code",
   "execution_count": 20,
   "id": "2fc15d55-6ad1-4365-9ab2-6e1255e083f8",
   "metadata": {},
   "outputs": [
    {
     "name": "stdout",
     "output_type": "stream",
     "text": [
      "\n",
      " DataFrame with Bonus Column:\n",
      "        Name  Age  Salary    Bonus  Total Pay   Join Date Age Category\n",
      "0     Alice   34   77177  23153.1    84894.7  2022-01-31        Young\n",
      "1       Bob   38   43110  12933.0    47421.0  2022-02-28       Senior\n",
      "2   Charlie   36   77066  23119.8    84772.6  2022-03-31       Senior\n",
      "3     David   29   55569  16670.7    61125.9  2022-04-30        Young\n",
      "4       Eve   41   91042  27312.6   100146.2  2022-05-31       Senior\n",
      "5     Frank   46   95315  28594.5   104846.5  2022-06-30       Senior\n",
      "6     Grace   32   68153  20445.9    74968.3  2022-07-31        Young\n",
      "7    Hannah   30   75887  22766.1    83475.7  2022-08-31        Young\n",
      "8       Ian   28   41251  12375.3    45376.1  2022-09-30        Young\n",
      "9      Jack   28   72947  21884.1    80241.7  2022-10-31        Young\n",
      "10    Karen   46   59475  17842.5    65422.5  2022-11-30       Senior\n",
      "11      Leo   45   91099  27329.7   100208.9  2022-12-31       Senior\n",
      "12     Mona   49   75348  22604.4    82882.8  2023-01-31       Senior\n",
      "13   Nathan   31   51645  15493.5    56809.5  2023-02-28        Young\n",
      "14   Olivia   44   90454  27136.2    99499.4  2023-03-31       Senior\n",
      "15     Paul   35   47299  14189.7    52028.9  2023-04-30       Senior\n",
      "16   Quincy   49   60879  18263.7    66966.9  2023-05-31       Senior\n",
      "17   Rachel   47   66596  19978.8    73255.6  2023-06-30       Senior\n",
      "18    Steve   31   95416  28624.8   104957.6  2023-07-31        Young\n",
      "19     Tina   36   51836  15550.8    57019.6  2023-08-31       Senior\n"
     ]
    }
   ],
   "source": [
    "# Adding and Modifying Columns\n",
    "df['Bonus']=df['Salary']*0.30\n",
    "print(\"\\n DataFrame with Bonus Column:\\n\", df)"
   ]
  },
  {
   "cell_type": "code",
   "execution_count": 21,
   "id": "a4c53ce3-2330-4ec7-b8b0-6067c128ea67",
   "metadata": {},
   "outputs": [
    {
     "name": "stdout",
     "output_type": "stream",
     "text": [
      "\n",
      " DataFrame with Total Pay:\n",
      "        Name  Age  Salary    Bonus  Total Pay   Join Date Age Category\n",
      "0     Alice   34   77177  23153.1   100330.1  2022-01-31        Young\n",
      "1       Bob   38   43110  12933.0    56043.0  2022-02-28       Senior\n",
      "2   Charlie   36   77066  23119.8   100185.8  2022-03-31       Senior\n",
      "3     David   29   55569  16670.7    72239.7  2022-04-30        Young\n",
      "4       Eve   41   91042  27312.6   118354.6  2022-05-31       Senior\n",
      "5     Frank   46   95315  28594.5   123909.5  2022-06-30       Senior\n",
      "6     Grace   32   68153  20445.9    88598.9  2022-07-31        Young\n",
      "7    Hannah   30   75887  22766.1    98653.1  2022-08-31        Young\n",
      "8       Ian   28   41251  12375.3    53626.3  2022-09-30        Young\n",
      "9      Jack   28   72947  21884.1    94831.1  2022-10-31        Young\n",
      "10    Karen   46   59475  17842.5    77317.5  2022-11-30       Senior\n",
      "11      Leo   45   91099  27329.7   118428.7  2022-12-31       Senior\n",
      "12     Mona   49   75348  22604.4    97952.4  2023-01-31       Senior\n",
      "13   Nathan   31   51645  15493.5    67138.5  2023-02-28        Young\n",
      "14   Olivia   44   90454  27136.2   117590.2  2023-03-31       Senior\n",
      "15     Paul   35   47299  14189.7    61488.7  2023-04-30       Senior\n",
      "16   Quincy   49   60879  18263.7    79142.7  2023-05-31       Senior\n",
      "17   Rachel   47   66596  19978.8    86574.8  2023-06-30       Senior\n",
      "18    Steve   31   95416  28624.8   124040.8  2023-07-31        Young\n",
      "19     Tina   36   51836  15550.8    67386.8  2023-08-31       Senior\n"
     ]
    }
   ],
   "source": [
    "df['Total Pay']=df['Salary']+df['Bonus']\n",
    "print(\"\\n DataFrame with Total Pay:\\n\", df)"
   ]
  },
  {
   "cell_type": "code",
   "execution_count": 22,
   "id": "b753f5bf-163f-4726-a263-4643d52caf9a",
   "metadata": {},
   "outputs": [
    {
     "name": "stdout",
     "output_type": "stream",
     "text": [
      "\n",
      " DataFrame with NaN:\n",
      "        Name  Age   Salary    Bonus  Total Pay   Join Date Age Category\n",
      "0     Alice   34  77177.0  23153.1   100330.1  2022-01-31        Young\n",
      "1       Bob   38  43110.0  12933.0    56043.0  2022-02-28       Senior\n",
      "2   Charlie   36      NaN  23119.8   100185.8  2022-03-31       Senior\n",
      "3     David   29  55569.0  16670.7    72239.7  2022-04-30        Young\n",
      "4       Eve   41  91042.0  27312.6   118354.6  2022-05-31       Senior\n",
      "5     Frank   46  95315.0  28594.5   123909.5  2022-06-30       Senior\n",
      "6     Grace   32  68153.0  20445.9    88598.9  2022-07-31        Young\n",
      "7    Hannah   30  75887.0  22766.1    98653.1  2022-08-31        Young\n",
      "8       Ian   28  41251.0  12375.3    53626.3  2022-09-30        Young\n",
      "9      Jack   28  72947.0  21884.1    94831.1  2022-10-31        Young\n",
      "10    Karen   46  59475.0  17842.5    77317.5  2022-11-30       Senior\n",
      "11      Leo   45  91099.0  27329.7   118428.7  2022-12-31       Senior\n",
      "12     Mona   49  75348.0  22604.4    97952.4  2023-01-31       Senior\n",
      "13   Nathan   31  51645.0  15493.5    67138.5  2023-02-28        Young\n",
      "14   Olivia   44  90454.0  27136.2   117590.2  2023-03-31       Senior\n",
      "15     Paul   35  47299.0  14189.7    61488.7  2023-04-30       Senior\n",
      "16   Quincy   49  60879.0  18263.7    79142.7  2023-05-31       Senior\n",
      "17   Rachel   47  66596.0  19978.8    86574.8  2023-06-30       Senior\n",
      "18    Steve   31  95416.0  28624.8   124040.8  2023-07-31        Young\n",
      "19     Tina   36  51836.0  15550.8    67386.8  2023-08-31       Senior\n"
     ]
    }
   ],
   "source": [
    "# Handling Missing Values\n",
    "df.loc[2,'Salary']=np.nan\n",
    "print(\"\\n DataFrame with NaN:\\n\",df)"
   ]
  },
  {
   "cell_type": "code",
   "execution_count": 24,
   "id": "8b96eaa3-ae5a-4c0a-a880-25332d248f77",
   "metadata": {},
   "outputs": [
    {
     "name": "stdout",
     "output_type": "stream",
     "text": [
      "\n",
      "DataFrame after filling NaN:\n",
      "        Name  Age        Salary    Bonus  Total Pay   Join Date Age Category\n",
      "0     Alice   34  77177.000000  23153.1   100330.1  2022-01-31        Young\n",
      "1       Bob   38  43110.000000  12933.0    56043.0  2022-02-28       Senior\n",
      "2   Charlie   36  68973.578947  23119.8   100185.8  2022-03-31       Senior\n",
      "3     David   29  55569.000000  16670.7    72239.7  2022-04-30        Young\n",
      "4       Eve   41  91042.000000  27312.6   118354.6  2022-05-31       Senior\n",
      "5     Frank   46  95315.000000  28594.5   123909.5  2022-06-30       Senior\n",
      "6     Grace   32  68153.000000  20445.9    88598.9  2022-07-31        Young\n",
      "7    Hannah   30  75887.000000  22766.1    98653.1  2022-08-31        Young\n",
      "8       Ian   28  41251.000000  12375.3    53626.3  2022-09-30        Young\n",
      "9      Jack   28  72947.000000  21884.1    94831.1  2022-10-31        Young\n",
      "10    Karen   46  59475.000000  17842.5    77317.5  2022-11-30       Senior\n",
      "11      Leo   45  91099.000000  27329.7   118428.7  2022-12-31       Senior\n",
      "12     Mona   49  75348.000000  22604.4    97952.4  2023-01-31       Senior\n",
      "13   Nathan   31  51645.000000  15493.5    67138.5  2023-02-28        Young\n",
      "14   Olivia   44  90454.000000  27136.2   117590.2  2023-03-31       Senior\n",
      "15     Paul   35  47299.000000  14189.7    61488.7  2023-04-30       Senior\n",
      "16   Quincy   49  60879.000000  18263.7    79142.7  2023-05-31       Senior\n",
      "17   Rachel   47  66596.000000  19978.8    86574.8  2023-06-30       Senior\n",
      "18    Steve   31  95416.000000  28624.8   124040.8  2023-07-31        Young\n",
      "19     Tina   36  51836.000000  15550.8    67386.8  2023-08-31       Senior\n"
     ]
    },
    {
     "name": "stderr",
     "output_type": "stream",
     "text": [
      "C:\\Users\\asus\\AppData\\Local\\Temp\\ipykernel_1260\\3056861742.py:2: FutureWarning: A value is trying to be set on a copy of a DataFrame or Series through chained assignment using an inplace method.\n",
      "The behavior will change in pandas 3.0. This inplace method will never work because the intermediate object on which we are setting values always behaves as a copy.\n",
      "\n",
      "For example, when doing 'df[col].method(value, inplace=True)', try using 'df.method({col: value}, inplace=True)' or df[col] = df[col].method(value) instead, to perform the operation inplace on the original object.\n",
      "\n",
      "\n",
      "  df['Salary'].fillna(df['Salary'].mean(), inplace=True)\n"
     ]
    }
   ],
   "source": [
    "# Filling NaN values\n",
    "df['Salary'].fillna(df['Salary'].mean(), inplace=True)\n",
    "print(\"\\nDataFrame after filling NaN:\\n\", df)"
   ]
  },
  {
   "cell_type": "code",
   "execution_count": 25,
   "id": "6f0f0ed6-58dc-4da8-9f85-d629404ea307",
   "metadata": {},
   "outputs": [],
   "source": [
    "# Dropping rows with NaN values\n",
    "df.dropna(inplace=True)"
   ]
  },
  {
   "cell_type": "code",
   "execution_count": 26,
   "id": "c7b21cf2-792a-4e28-874d-0f8ae24d6e93",
   "metadata": {},
   "outputs": [
    {
     "name": "stdout",
     "output_type": "stream",
     "text": [
      "\n",
      " Average Salary by Age:\n",
      " Age\n",
      "28    57099.000000\n",
      "29    55569.000000\n",
      "30    75887.000000\n",
      "31    73530.500000\n",
      "32    68153.000000\n",
      "34    77177.000000\n",
      "35    47299.000000\n",
      "36    60404.789474\n",
      "38    43110.000000\n",
      "41    91042.000000\n",
      "44    90454.000000\n",
      "45    91099.000000\n",
      "46    77395.000000\n",
      "47    66596.000000\n",
      "49    68113.500000\n",
      "Name: Salary, dtype: float64\n",
      "\n",
      " Sum of Salaries:\n",
      " 1379471.5789473685\n"
     ]
    }
   ],
   "source": [
    "# Grouping and Aggregation\n",
    "print(\"\\n Average Salary by Age:\\n\", df.groupby('Age')['Salary'].mean())\n",
    "print(\"\\n Sum of Salaries:\\n\", df['Salary'].sum())"
   ]
  },
  {
   "cell_type": "code",
   "execution_count": 28,
   "id": "658e516e-19b4-412a-88de-8c1b4432a837",
   "metadata": {},
   "outputs": [
    {
     "name": "stdout",
     "output_type": "stream",
     "text": [
      "\n",
      " Merged DataFrame :\n",
      "        Name  Age        Salary    Bonus  Total Pay   Join Date Age Category  \\\n",
      "0     Alice   34  77177.000000  23153.1   100330.1  2022-01-31        Young   \n",
      "1       Bob   38  43110.000000  12933.0    56043.0  2022-02-28       Senior   \n",
      "2   Charlie   36  68973.578947  23119.8   100185.8  2022-03-31       Senior   \n",
      "3     David   29  55569.000000  16670.7    72239.7  2022-04-30        Young   \n",
      "4       Eve   41  91042.000000  27312.6   118354.6  2022-05-31       Senior   \n",
      "5     Frank   46  95315.000000  28594.5   123909.5  2022-06-30       Senior   \n",
      "6     Grace   32  68153.000000  20445.9    88598.9  2022-07-31        Young   \n",
      "7    Hannah   30  75887.000000  22766.1    98653.1  2022-08-31        Young   \n",
      "8       Ian   28  41251.000000  12375.3    53626.3  2022-09-30        Young   \n",
      "9      Jack   28  72947.000000  21884.1    94831.1  2022-10-31        Young   \n",
      "10    Karen   46  59475.000000  17842.5    77317.5  2022-11-30       Senior   \n",
      "11      Leo   45  91099.000000  27329.7   118428.7  2022-12-31       Senior   \n",
      "12     Mona   49  75348.000000  22604.4    97952.4  2023-01-31       Senior   \n",
      "13   Nathan   31  51645.000000  15493.5    67138.5  2023-02-28        Young   \n",
      "14   Olivia   44  90454.000000  27136.2   117590.2  2023-03-31       Senior   \n",
      "15     Paul   35  47299.000000  14189.7    61488.7  2023-04-30       Senior   \n",
      "16   Quincy   49  60879.000000  18263.7    79142.7  2023-05-31       Senior   \n",
      "17   Rachel   47  66596.000000  19978.8    86574.8  2023-06-30       Senior   \n",
      "18    Steve   31  95416.000000  28624.8   124040.8  2023-07-31        Young   \n",
      "19     Tina   36  51836.000000  15550.8    67386.8  2023-08-31       Senior   \n",
      "\n",
      "   Department  \n",
      "0          HR  \n",
      "1          IT  \n",
      "2     Finance  \n",
      "3         NaN  \n",
      "4         NaN  \n",
      "5         NaN  \n",
      "6         NaN  \n",
      "7         NaN  \n",
      "8         NaN  \n",
      "9         NaN  \n",
      "10        NaN  \n",
      "11        NaN  \n",
      "12        NaN  \n",
      "13        NaN  \n",
      "14        NaN  \n",
      "15        NaN  \n",
      "16        NaN  \n",
      "17        NaN  \n",
      "18        NaN  \n",
      "19        NaN  \n"
     ]
    }
   ],
   "source": [
    "# Merging and Joining DataFrames\n",
    "df2 = pd.DataFrame({'Name': ['Alice', 'Bob', 'Charlie'], 'Department': ['HR', 'IT', 'Finance']})\n",
    "merged_df = df.merge(df2, on='Name', how='left')\n",
    "print(\"\\n Merged DataFrame :\\n\", merged_df)"
   ]
  },
  {
   "cell_type": "code",
   "execution_count": 29,
   "id": "c175ead9-246d-43ef-9b96-5460d4cfe4d6",
   "metadata": {},
   "outputs": [
    {
     "name": "stdout",
     "output_type": "stream",
     "text": [
      "\n",
      "Sorting by Salary:\n",
      "        Name  Age        Salary    Bonus  Total Pay   Join Date Age Category\n",
      "18    Steve   31  95416.000000  28624.8   124040.8  2023-07-31        Young\n",
      "5     Frank   46  95315.000000  28594.5   123909.5  2022-06-30       Senior\n",
      "11      Leo   45  91099.000000  27329.7   118428.7  2022-12-31       Senior\n",
      "4       Eve   41  91042.000000  27312.6   118354.6  2022-05-31       Senior\n",
      "14   Olivia   44  90454.000000  27136.2   117590.2  2023-03-31       Senior\n",
      "0     Alice   34  77177.000000  23153.1   100330.1  2022-01-31        Young\n",
      "7    Hannah   30  75887.000000  22766.1    98653.1  2022-08-31        Young\n",
      "12     Mona   49  75348.000000  22604.4    97952.4  2023-01-31       Senior\n",
      "9      Jack   28  72947.000000  21884.1    94831.1  2022-10-31        Young\n",
      "2   Charlie   36  68973.578947  23119.8   100185.8  2022-03-31       Senior\n",
      "6     Grace   32  68153.000000  20445.9    88598.9  2022-07-31        Young\n",
      "17   Rachel   47  66596.000000  19978.8    86574.8  2023-06-30       Senior\n",
      "16   Quincy   49  60879.000000  18263.7    79142.7  2023-05-31       Senior\n",
      "10    Karen   46  59475.000000  17842.5    77317.5  2022-11-30       Senior\n",
      "3     David   29  55569.000000  16670.7    72239.7  2022-04-30        Young\n",
      "19     Tina   36  51836.000000  15550.8    67386.8  2023-08-31       Senior\n",
      "13   Nathan   31  51645.000000  15493.5    67138.5  2023-02-28        Young\n",
      "15     Paul   35  47299.000000  14189.7    61488.7  2023-04-30       Senior\n",
      "1       Bob   38  43110.000000  12933.0    56043.0  2022-02-28       Senior\n",
      "8       Ian   28  41251.000000  12375.3    53626.3  2022-09-30        Young\n",
      "\n",
      "Ranking Salaries:\n",
      " 0     15.0\n",
      "1      2.0\n",
      "2     11.0\n",
      "3      6.0\n",
      "4     17.0\n",
      "5     19.0\n",
      "6     10.0\n",
      "7     14.0\n",
      "8      1.0\n",
      "9     12.0\n",
      "10     7.0\n",
      "11    18.0\n",
      "12    13.0\n",
      "13     4.0\n",
      "14    16.0\n",
      "15     3.0\n",
      "16     8.0\n",
      "17     9.0\n",
      "18    20.0\n",
      "19     5.0\n",
      "Name: Salary, dtype: float64\n"
     ]
    }
   ],
   "source": [
    "# Sorting and Ranking\n",
    "print(\"\\nSorting by Salary:\\n\",df.sort_values(by='Salary', ascending=False))\n",
    "print(\"\\nRanking Salaries:\\n\",df['Salary'].rank())"
   ]
  },
  {
   "cell_type": "code",
   "execution_count": 30,
   "id": "d642833c-4953-4722-b901-eecb5dc27fac",
   "metadata": {},
   "outputs": [
    {
     "name": "stdout",
     "output_type": "stream",
     "text": [
      "\n",
      " DataFrame with Age Category:\n",
      "        Name  Age        Salary    Bonus  Total Pay   Join Date Age Category\n",
      "0     Alice   34  77177.000000  23153.1   100330.1  2022-01-31        Young\n",
      "1       Bob   38  43110.000000  12933.0    56043.0  2022-02-28       Senior\n",
      "2   Charlie   36  68973.578947  23119.8   100185.8  2022-03-31       Senior\n",
      "3     David   29  55569.000000  16670.7    72239.7  2022-04-30        Young\n",
      "4       Eve   41  91042.000000  27312.6   118354.6  2022-05-31       Senior\n",
      "5     Frank   46  95315.000000  28594.5   123909.5  2022-06-30       Senior\n",
      "6     Grace   32  68153.000000  20445.9    88598.9  2022-07-31        Young\n",
      "7    Hannah   30  75887.000000  22766.1    98653.1  2022-08-31        Young\n",
      "8       Ian   28  41251.000000  12375.3    53626.3  2022-09-30        Young\n",
      "9      Jack   28  72947.000000  21884.1    94831.1  2022-10-31        Young\n",
      "10    Karen   46  59475.000000  17842.5    77317.5  2022-11-30       Senior\n",
      "11      Leo   45  91099.000000  27329.7   118428.7  2022-12-31       Senior\n",
      "12     Mona   49  75348.000000  22604.4    97952.4  2023-01-31       Senior\n",
      "13   Nathan   31  51645.000000  15493.5    67138.5  2023-02-28        Young\n",
      "14   Olivia   44  90454.000000  27136.2   117590.2  2023-03-31       Senior\n",
      "15     Paul   35  47299.000000  14189.7    61488.7  2023-04-30       Senior\n",
      "16   Quincy   49  60879.000000  18263.7    79142.7  2023-05-31       Senior\n",
      "17   Rachel   47  66596.000000  19978.8    86574.8  2023-06-30       Senior\n",
      "18    Steve   31  95416.000000  28624.8   124040.8  2023-07-31        Young\n",
      "19     Tina   36  51836.000000  15550.8    67386.8  2023-08-31       Senior\n"
     ]
    }
   ],
   "source": [
    "# Applying Functions and Lambda Expressions\n",
    "df['Age Category']=df['Age'].apply(lambda x:'Young' if x < 35 else 'Senior')\n",
    "print(\"\\n DataFrame with Age Category:\\n\",df)"
   ]
  },
  {
   "cell_type": "code",
   "execution_count": 31,
   "id": "1b34677c-c3ee-4c00-94d8-f3bf1aa95a0a",
   "metadata": {},
   "outputs": [
    {
     "name": "stderr",
     "output_type": "stream",
     "text": [
      "Matplotlib is building the font cache; this may take a moment.\n"
     ]
    }
   ],
   "source": [
    "# Visualization with Pandas\n",
    "import matplotlib.pyplot as plt"
   ]
  },
  {
   "cell_type": "code",
   "execution_count": 32,
   "id": "ce22377b-4fa2-41d9-a371-c8456f53f3e4",
   "metadata": {},
   "outputs": [
    {
     "data": {
      "image/png": "[encoded data removed]",
      "text/plain": [
       "<Figure size 640x480 with 1 Axes>"
      ]
     },
     "metadata": {},
     "output_type": "display_data"
    }
   ],
   "source": [
    "df.plot(x='Name', y='Salary', kind='bar',title='Salary Comparison')\n",
    "plt.show()"
   ]
  },
  {
   "cell_type": "code",
   "execution_count": 33,
   "id": "37c2da99-2399-4ca9-8e60-be0812cf978f",
   "metadata": {},
   "outputs": [
    {
     "data": {
      "image/png": "[encoded data removed]",
      "text/plain": [
       "<Figure size 640x480 with 1 Axes>"
      ]
     },
     "metadata": {},
     "output_type": "display_data"
    }
   ],
   "source": [
    "df['Salary'].plot(kind='hist', title='Salary Destribution')\n",
    "plt.show()"
   ]
  },
  {
   "cell_type": "code",
   "execution_count": 34,
   "id": "cf6314b5-d0fb-4dbe-af37-1c84a6b94ae2",
   "metadata": {},
   "outputs": [
    {
     "name": "stdout",
     "output_type": "stream",
     "text": [
      "\n",
      " Data Saved as final_output.csv\n"
     ]
    }
   ],
   "source": [
    "# Exporting Data\n",
    "df.to_csv('final_output.csv', index=False)\n",
    "print(\"\\n Data Saved as final_output.csv\")"
   ]
  },
  {
   "cell_type": "code",
   "execution_count": null,
   "id": "5bcb0416-e989-424b-81a9-1225e7f6cbaa",
   "metadata": {},
   "outputs": [],
   "source": []
  }
 ],
 "metadata": {
  "kernelspec": {
   "display_name": "Python 3 (ipykernel)",
   "language": "python",
   "name": "python3"
  },
  "language_info": {
   "codemirror_mode": {
    "name": "ipython",
    "version": 3
   },
   "file_extension": ".py",
   "mimetype": "text/x-python",
   "name": "python",
   "nbconvert_exporter": "python",
   "pygments_lexer": "ipython3",
   "version": "3.12.4"
  }
 },
 "nbformat": 4,
 "nbformat_minor": 5
}
